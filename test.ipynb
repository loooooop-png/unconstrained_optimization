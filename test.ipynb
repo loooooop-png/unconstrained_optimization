{
 "cells": [
  {
   "cell_type": "code",
   "execution_count": 23,
   "metadata": {},
   "outputs": [
    {
     "name": "stdout",
     "output_type": "stream",
     "text": [
      " message: Optimization terminated successfully\n",
      " success: True\n",
      "  status: 0\n",
      "     fun: 0.08031358617387185\n",
      "       x: [ 1.191e+00  1.354e+00  1.485e+00]\n",
      "     nit: 7\n",
      "     jac: [ 5.660e-02  6.443e-02  2.617e-01]\n",
      "    nfev: 29\n",
      "    njev: 7\n"
     ]
    }
   ],
   "source": [
    "import numpy as np\n",
    "from scipy.optimize import minimize\n",
    "import math\n",
    "\n",
    "# 定义目标函数\n",
    "def objective_function(x):\n",
    "    return (x[0] - 1)**2 + (x[0] - x[1])**2 + (x[1] - x[2])**2\n",
    "\n",
    "# 定义不等式约束条件\n",
    "inequality_constraints = (\n",
    "    {'type': 'ineq', 'fun': lambda x: x[0] + 10},  \n",
    "    {'type': 'ineq', 'fun': lambda x: x[1] + 10}, \n",
    "    {'type': 'ineq', 'fun': lambda x: x[2] + 10}, \n",
    "    {'type': 'ineq', 'fun': lambda x: -x[0] + 10}, \n",
    "    {'type': 'ineq', 'fun': lambda x: -x[1] + 10}, \n",
    "    {'type': 'ineq', 'fun': lambda x: -x[2] + 10}   \n",
    ")\n",
    "\n",
    "# 定义等式约束条件\n",
    "equality_constraint = {'type': 'eq', 'fun': lambda x: x[0] * (1 + x[1]**2) + x[2]**4 - 4 - 3 * math.sqrt(2)}  # x1 - 2*x2 = 0\n",
    "\n",
    "# 综合所有约束条件\n",
    "constraints = inequality_constraints + (equality_constraint,)\n",
    "\n",
    "# 初始猜测值\n",
    "x0 = np.array([1.0] * 3)\n",
    "\n",
    "# 调用minimize函数进行优化求解\n",
    "result = minimize(objective_function, x0, constraints=constraints)\n",
    "\n",
    "print(result)"
   ]
  },
  {
   "cell_type": "code",
   "execution_count": 19,
   "metadata": {},
   "outputs": [
    {
     "name": "stdout",
     "output_type": "stream",
     "text": [
      " message: Local minimum reached (|pg| ~= 0)\n",
      " success: True\n",
      "  status: 0\n",
      "     fun: 6.162975822039155e-17\n",
      "       x: [ 5.551e-09  5.551e-09]\n",
      "     nit: 1\n",
      "     jac: [ 2.110e-08  2.110e-08]\n",
      "    nfev: 9\n"
     ]
    },
    {
     "name": "stderr",
     "output_type": "stream",
     "text": [
      "C:\\Users\\ASUS\\AppData\\Local\\Temp\\ipykernel_6656\\2056053156.py:10: RuntimeWarning: Method tnc cannot handle constraints.\n",
      "  result = minimize(objective_function, x0, method='tnc', constraints=constraints)\n"
     ]
    }
   ],
   "source": [
    "import numpy as np\n",
    "from scipy.optimize import minimize\n",
    "\n",
    "def objective_function(x):\n",
    "    return x[0]**2 + x[1]**2\n",
    "def constraint_ineq(x):\n",
    "    return x[0] + x[1] - 1\n",
    "constraints = [{\"type\": \"ineq\", \"fun\": constraint_ineq}]\n",
    "x0 = np.array([0.5, 0.5])\n",
    "result = minimize(objective_function, x0, method='tnc', constraints=constraints)\n",
    "print(result)"
   ]
  },
  {
   "cell_type": "markdown",
   "metadata": {},
   "source": [
    "我们写的代码"
   ]
  },
  {
   "cell_type": "code",
   "execution_count": 28,
   "metadata": {},
   "outputs": [
    {
     "name": "stdout",
     "output_type": "stream",
     "text": [
      "1.3105587903794458e-07\n"
     ]
    }
   ],
   "source": [
    "x = result.x\n",
    "y = x[0] * (1 + x[1]**2) + x[2]**4 - 4 - 3 * math.sqrt(2)\n",
    "print(y)"
   ]
  },
  {
   "cell_type": "markdown",
   "metadata": {},
   "source": [
    "简书上的"
   ]
  },
  {
   "cell_type": "code",
   "execution_count": 29,
   "metadata": {},
   "outputs": [
    {
     "name": "stdout",
     "output_type": "stream",
     "text": [
      "-0.005845803476926648\n"
     ]
    }
   ],
   "source": [
    "x = [1.1048, 1.1965, 1.5349]\n",
    "y = x[0] * (1 + x[1]**2) + x[2]**4 - 4 - 3 * math.sqrt(2)\n",
    "print(y)"
   ]
  }
 ],
 "metadata": {
  "kernelspec": {
   "display_name": "optimizer",
   "language": "python",
   "name": "python3"
  },
  "language_info": {
   "codemirror_mode": {
    "name": "ipython",
    "version": 3
   },
   "file_extension": ".py",
   "mimetype": "text/x-python",
   "name": "python",
   "nbconvert_exporter": "python",
   "pygments_lexer": "ipython3",
   "version": "3.11.10"
  }
 },
 "nbformat": 4,
 "nbformat_minor": 2
}
